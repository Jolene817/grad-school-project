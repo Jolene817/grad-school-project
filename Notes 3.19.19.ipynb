{
 "cells": [
  {
   "cell_type": "code",
   "execution_count": 1,
   "metadata": {},
   "outputs": [],
   "source": [
    "import pandas as pd\n",
    "import numpy as np\n",
    "from sklearn.linear_model import LinearRegression\n",
    "from sklearn.linear_model import Ridge\n",
    "from sklearn.model_selection import train_test_split\n",
    "from sklearn.metrics import r2_score, mean_squared_error\n",
    "from sklearn.preprocessing import StandardScaler\n",
    "from sklearn.model_selection import KFold\n",
    "from sklearn.datasets import load_diabetes\n",
    "import matplotlib.pyplot as plt\n",
    "import scipy.stats as scs\n",
    "\n",
    "%matplotlib inline"
   ]
  },
  {
   "cell_type": "code",
   "execution_count": 22,
   "metadata": {},
   "outputs": [],
   "source": [
    "samples = 40\n",
    "\n",
    "a  = scs.norm(70, 3).rvs(samples)\n",
    "b  = scs.norm(200, 25).rvs(samples)\n",
    "c  = scs.norm(30, 5).rvs(samples)\n",
    "d  = scs.binom(10, 0.3).rvs(samples)\n",
    "e  = scs.uniform(3, 10).rvs(samples)\n",
    "f  = scs.norm(170, 3).rvs(samples)\n",
    "g  = scs.norm(23, 25).rvs(samples)\n",
    "h  = scs.norm(303, 5).rvs(samples)\n",
    "i  = scs.binom(150, 0.3).rvs(samples)\n",
    "j  = scs.uniform(72, 10).rvs(samples)\n",
    "k  = scs.norm(79, 3).rvs(samples)\n",
    "l  = scs.norm(210, 25).rvs(samples)\n",
    "m  = scs.norm(31, 5).rvs(samples)\n",
    "n  = scs.binom(11, 0.3).rvs(samples)\n",
    "o  = scs.uniform(34, 10).rvs(samples)\n",
    "p  = scs.norm(79, 3).rvs(samples)\n",
    "q  = scs.norm(22, 25).rvs(samples)\n",
    "r  = scs.norm(38, 5).rvs(samples)\n",
    "s  = scs.binom(56, 0.3).rvs(samples)\n",
    "t  = scs.uniform(85, 10).rvs(samples)\n",
    "epsilon    = scs.norm(0, 2).rvs(samples)\n",
    "intercept  = 250\n",
    "betas      = np.array([2, 3, 1, 7, 8, 34, 19, 2, 9, -11, 2, 4, 9, 3, -2, 5, 7, -8, 1, -4])\n",
    "predictors = np.array([a, b, c, d, e, f, g, h, i, j, k, l, m, n, o, p, q, r, s, t]).T"
   ]
  },
  {
   "cell_type": "code",
   "execution_count": 23,
   "metadata": {},
   "outputs": [],
   "source": [
    "y = (predictors @ betas) + epsilon + intercept + (a * b)\n",
    "X = predictors"
   ]
  },
  {
   "cell_type": "markdown",
   "metadata": {},
   "source": [
    "# Baseline"
   ]
  },
  {
   "cell_type": "code",
   "execution_count": 24,
   "metadata": {},
   "outputs": [
    {
     "data": {
      "text/plain": [
       "(-6340.051074074225, 52298.17466091105)"
      ]
     },
     "execution_count": 24,
     "metadata": {},
     "output_type": "execute_result"
    }
   ],
   "source": [
    "scores = []\n",
    "for i in range(1000):\n",
    "    X_train, X_test, y_train, y_test = train_test_split(X,y, test_size=0.30)\n",
    "    model = LinearRegression().fit(X_train, y_train)\n",
    "    mse = mean_squared_error(y_test, model.predict(X_test))\n",
    "    scores.append(mse)\n",
    "    \n",
    "scores = np.array(scores)\n",
    "mean = scores.mean()\n",
    "std = scores.std(ddof=1)\n",
    "mean - (2*std), mean + (2*std)\n",
    "    #print (mse)\n",
    "    \n",
    "# find the mean of all the MSEs and 2 standard deviationsaway, as a range\n",
    "# i.e., (5000 - 8000)\n"
   ]
  },
  {
   "cell_type": "code",
   "execution_count": null,
   "metadata": {},
   "outputs": [],
   "source": []
  },
  {
   "cell_type": "markdown",
   "metadata": {},
   "source": [
    "# Split data into train and test"
   ]
  },
  {
   "cell_type": "code",
   "execution_count": 25,
   "metadata": {},
   "outputs": [],
   "source": [
    "X_train, X_test, y_train, y_test = train_test_split(X,y, test_size=0.30)"
   ]
  },
  {
   "cell_type": "code",
   "execution_count": null,
   "metadata": {},
   "outputs": [],
   "source": []
  },
  {
   "cell_type": "markdown",
   "metadata": {},
   "source": [
    "# Scale data"
   ]
  },
  {
   "cell_type": "code",
   "execution_count": 26,
   "metadata": {},
   "outputs": [],
   "source": [
    "scalar = StandardScaler().fit(X_train)\n",
    "X_train = scalar.transform(X_train)\n",
    "X_test = scalar.transform(X_test)"
   ]
  },
  {
   "cell_type": "code",
   "execution_count": null,
   "metadata": {},
   "outputs": [],
   "source": []
  },
  {
   "cell_type": "markdown",
   "metadata": {},
   "source": [
    "# KFold"
   ]
  },
  {
   "cell_type": "code",
   "execution_count": 27,
   "metadata": {},
   "outputs": [],
   "source": [
    "kf = KFold(n_splits=5)"
   ]
  },
  {
   "cell_type": "code",
   "execution_count": null,
   "metadata": {},
   "outputs": [],
   "source": []
  },
  {
   "cell_type": "markdown",
   "metadata": {},
   "source": [
    "# Cross Validation"
   ]
  },
  {
   "cell_type": "code",
   "execution_count": 28,
   "metadata": {},
   "outputs": [
    {
     "data": {
      "image/png": "[encoded data removed]",
      "text/plain": [
       "<Figure size 432x288 with 1 Axes>"
      ]
     },
     "metadata": {
      "needs_background": "light"
     },
     "output_type": "display_data"
    }
   ],
   "source": [
    "betas = []\n",
    "scores_train = []\n",
    "scores_val  = []\n",
    "alphas = np.linspace(0, 10) # 50 values between 0 and 10\n",
    "for alpha in alphas: # for each alpha do the below\n",
    "    tk_scores = []\n",
    "    vk_scores = []\n",
    "    bk_values = []\n",
    "    for train_index, validation_index in kf.split(X_train):\n",
    "        Xt = X_train[train_index]\n",
    "        yt = y_train[train_index]\n",
    "        Xv = X_train[validation_index]\n",
    "        yv = y_train[validation_index]\n",
    "\n",
    "        model = Ridge(alpha=alpha).fit(Xt, yt)\n",
    "        \n",
    "        tk_scores.append(mean_squared_error(yt, model.predict(Xt)))\n",
    "        vk_scores.append(mean_squared_error(yv, model.predict(Xv)))\n",
    "        bk_values.append(model.coef_)\n",
    "        \n",
    "    # find average of all 5 scores\n",
    "    train_mean = sum(tk_scores) / kf.get_n_splits() \n",
    "    val_mean = sum(vk_scores) / kf.get_n_splits()\n",
    "    betas_mean = np.array(bk_values).mean(axis=0)\n",
    "    \n",
    "    scores_train.append(train_mean)\n",
    "    scores_val.append(val_mean)\n",
    "    betas.append(betas_mean)\n",
    "\n",
    "plt.plot(alphas, scores_train, label='train')\n",
    "plt.plot(alphas, scores_val, label='validation')\n",
    "plt.legend()\n",
    "plt.show()"
   ]
  },
  {
   "cell_type": "code",
   "execution_count": 29,
   "metadata": {},
   "outputs": [
    {
     "data": {
      "text/plain": [
       "0.20408163265306123"
      ]
     },
     "execution_count": 29,
     "metadata": {},
     "output_type": "execute_result"
    }
   ],
   "source": [
    "alphas[np.argmin(scores_val)]"
   ]
  },
  {
   "cell_type": "code",
   "execution_count": 30,
   "metadata": {},
   "outputs": [
    {
     "data": {
      "text/plain": [
       "845333.9654619239"
      ]
     },
     "execution_count": 30,
     "metadata": {},
     "output_type": "execute_result"
    }
   ],
   "source": [
    "model = Ridge(alpha=alpha).fit(X_train, y_train)\n",
    "mean_squared_error(y_test, model.predict(X_test))"
   ]
  },
  {
   "cell_type": "code",
   "execution_count": 32,
   "metadata": {},
   "outputs": [
    {
     "data": {
      "text/plain": [
       "30041.605476606408"
      ]
     },
     "execution_count": 32,
     "metadata": {},
     "output_type": "execute_result"
    }
   ],
   "source": [
    "model = Ridge(alpha=0).fit(X_train, y_train)\n",
    "mean_squared_error(y_test, model.predict(X_test))"
   ]
  },
  {
   "cell_type": "code",
   "execution_count": 33,
   "metadata": {},
   "outputs": [],
   "source": [
    "# looks like 0 is best"
   ]
  },
  {
   "cell_type": "code",
   "execution_count": null,
   "metadata": {},
   "outputs": [],
   "source": []
  },
  {
   "cell_type": "code",
   "execution_count": null,
   "metadata": {},
   "outputs": [],
   "source": []
  },
  {
   "cell_type": "code",
   "execution_count": null,
   "metadata": {},
   "outputs": [],
   "source": []
  },
  {
   "cell_type": "code",
   "execution_count": null,
   "metadata": {},
   "outputs": [],
   "source": []
  }
 ],
 "metadata": {
  "kernelspec": {
   "display_name": "Python 3",
   "language": "python",
   "name": "python3"
  },
  "language_info": {
   "codemirror_mode": {
    "name": "ipython",
    "version": 3
   },
   "file_extension": ".py",
   "mimetype": "text/x-python",
   "name": "python",
   "nbconvert_exporter": "python",
   "pygments_lexer": "ipython3",
   "version": "3.7.1"
  }
 },
 "nbformat": 4,
 "nbformat_minor": 2
}
